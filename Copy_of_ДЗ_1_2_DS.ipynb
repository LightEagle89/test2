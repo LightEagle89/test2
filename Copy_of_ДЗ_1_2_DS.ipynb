{
  "nbformat": 4,
  "nbformat_minor": 0,
  "metadata": {
    "colab": {
      "name": "Copy of ДЗ_1_2_DS.ipynb",
      "provenance": [],
      "collapsed_sections": [],
      "toc_visible": true,
      "include_colab_link": true
    },
    "kernelspec": {
      "display_name": "Python 3",
      "language": "python",
      "name": "python3"
    },
    "language_info": {
      "codemirror_mode": {
        "name": "ipython",
        "version": 3
      },
      "file_extension": ".py",
      "mimetype": "text/x-python",
      "name": "python",
      "nbconvert_exporter": "python",
      "pygments_lexer": "ipython3",
      "version": "3.7.6"
    }
  },
  "cells": [
    {
      "cell_type": "markdown",
      "metadata": {
        "id": "view-in-github",
        "colab_type": "text"
      },
      "source": [
        "<a href=\"https://colab.research.google.com/github/LightEagle89/test2/blob/main/Copy_of_%D0%94%D0%97_1_2_DS.ipynb\" target=\"_parent\"><img src=\"https://colab.research.google.com/assets/colab-badge.svg\" alt=\"Open In Colab\"/></a>"
      ]
    },
    {
      "cell_type": "markdown",
      "metadata": {
        "id": "5Rz-7jRvb9Zz"
      },
      "source": [
        "<h1 style=\"color:green\">Выполнил(а): Корнаухов Сергей Валентинович</h1>"
      ]
    },
    {
      "cell_type": "markdown",
      "metadata": {
        "id": "M6n_8Kgn9YIT"
      },
      "source": [
        "# Несколько заданий на пройденный материал"
      ]
    },
    {
      "cell_type": "markdown",
      "metadata": {
        "id": "TT2xjEgu9nCx"
      },
      "source": [
        "*Подсказка!* проверяйте ваше решение по тому, что уже есть в блоках вывода ячеек"
      ]
    },
    {
      "cell_type": "markdown",
      "metadata": {
        "id": "QZ_-3-s1b9aN"
      },
      "source": [
        "<div style=\"background:red\">&nbsp;</div>\n",
        "<h1>Занятие 1</h1>\n",
        "<div style=\"background:red\">&nbsp;</div>"
      ]
    },
    {
      "cell_type": "markdown",
      "metadata": {
        "id": "p8V0RKCF94h6"
      },
      "source": [
        "## Задача 1\n",
        "\n",
        "Создайте переменную a = 10, возвести значение в 3 степень и найти остаток от деления на 3."
      ]
    },
    {
      "cell_type": "code",
      "metadata": {
        "colab": {
          "base_uri": "https://localhost:8080/"
        },
        "id": "_N-Bcj6D9300",
        "outputId": "ff430970-ec7a-4af0-8e56-9d51df22224f"
      },
      "source": [
        "a = (10 ** 3) % 3\n",
        "print(a)"
      ],
      "execution_count": null,
      "outputs": [
        {
          "output_type": "execute_result",
          "data": {
            "text/plain": [
              "1"
            ]
          },
          "metadata": {
            "tags": []
          },
          "execution_count": 2
        }
      ]
    },
    {
      "cell_type": "markdown",
      "metadata": {
        "id": "S2BzQt1E99Np"
      },
      "source": [
        "## Задача 2\n",
        "\n",
        "Найдите площадь круга с радиусом 1.23456.\n",
        "\n",
        "(Считаем π = 3.14)"
      ]
    },
    {
      "cell_type": "code",
      "metadata": {
        "colab": {
          "base_uri": "https://localhost:8080/"
        },
        "id": "mkN8EOc098t9",
        "outputId": "dd1cf95a-7716-4745-ed9b-fb2d05d3b513"
      },
      "source": [
        "S = 3.14 * (1.23456 **2)\n",
        "print(S)"
      ],
      "execution_count": null,
      "outputs": [
        {
          "output_type": "execute_result",
          "data": {
            "text/plain": [
              "4.785794555904"
            ]
          },
          "metadata": {
            "tags": []
          },
          "execution_count": 3
        }
      ]
    },
    {
      "cell_type": "markdown",
      "metadata": {
        "id": "nP-f4Qd2-BTI"
      },
      "source": [
        "## Задача 3\n",
        "\n",
        "Найдите, истинно ли, что 2 в 10 степени больше 1000 при условии, что 4 в 7й степени меньше 8 в 5й.\n",
        "\n"
      ]
    },
    {
      "cell_type": "code",
      "metadata": {
        "colab": {
          "base_uri": "https://localhost:8080/"
        },
        "id": "-reh5tB2-CPF",
        "outputId": "6d3ee1ab-9b94-446b-d859-78d46fad88c5"
      },
      "source": [
        "if (4 ** 7) < (8 ** 5):\n",
        "    if (2 ** 10) > 1000:\n",
        "      print('True')\n",
        "else:\n",
        "  print('False')"
      ],
      "execution_count": null,
      "outputs": [
        {
          "output_type": "stream",
          "text": [
            "True\n"
          ],
          "name": "stdout"
        }
      ]
    },
    {
      "cell_type": "markdown",
      "metadata": {
        "id": "XcaKAyzZ-MOL"
      },
      "source": [
        "## Задача 4\n",
        "\n",
        "Мы принимаем целое число на ввод с клавиатуры (код предоставлен), вывести \"цена выше рынка\", если число выше 1200, \"цена ниже рыночной\", если число меньше 800 и \"все ок\" в остальных случаях."
      ]
    },
    {
      "cell_type": "code",
      "metadata": {
        "colab": {
          "base_uri": "https://localhost:8080/"
        },
        "id": "3yLvK2JL-R1g",
        "outputId": "325da03f-80b1-481c-ea92-30d9ad481a70"
      },
      "source": [
        "price = int(input('Введите цену товара: '))\n",
        "if price > 1200:\n",
        "  print('цена выше рынка')\n",
        "elif price < 800:\n",
        "  print('цена ниже рыночной')\n",
        "else:\n",
        "  print('все ок')\n"
      ],
      "execution_count": null,
      "outputs": [
        {
          "output_type": "stream",
          "text": [
            "Введите цену товара: 1000\n",
            "все ок\n"
          ],
          "name": "stdout"
        }
      ]
    },
    {
      "cell_type": "markdown",
      "metadata": {
        "id": "lV0tQp8J-bFI"
      },
      "source": [
        "## Задача 5\n",
        "\n",
        "Распечатайте с 4 по 8 символ фразы \"Привет мир!\" приведенные к верхнему регистру."
      ]
    },
    {
      "cell_type": "code",
      "metadata": {
        "colab": {
          "base_uri": "https://localhost:8080/"
        },
        "id": "ECKlo9c2-cue",
        "outputId": "ddd3c288-8939-48fa-dfc3-adaa3dedce9c"
      },
      "source": [
        "print(str(\"\\'\") + (str('Привет мир!').upper()[4:8]) + str(\"\\'\"))"
      ],
      "execution_count": null,
      "outputs": [
        {
          "output_type": "stream",
          "text": [
            "'ЕТ М'\n"
          ],
          "name": "stdout"
        }
      ]
    },
    {
      "cell_type": "markdown",
      "metadata": {
        "id": "2jN3PzaZ-gx4"
      },
      "source": [
        "## Задача 6\n",
        "\n",
        "Создайте переменную, которая хранит описание этой задачи как строку, разделите слова по пробелам и приведите к нижнему регистру."
      ]
    },
    {
      "cell_type": "code",
      "metadata": {
        "colab": {
          "base_uri": "https://localhost:8080/"
        },
        "id": "A-Ro4i8u-iHv",
        "outputId": "b2c72fca-101c-4869-d6a9-88326ee915ff"
      },
      "source": [
        "a = str(\"Создайте переменную, которая хранит описание этой задачи как строку, разделите слова по пробелам и приведите к нижнему регистру.\").lower().split(\" \")\n",
        "print(a)"
      ],
      "execution_count": null,
      "outputs": [
        {
          "output_type": "stream",
          "text": [
            "['создайте', 'переменную,', 'которая', 'хранит', 'описание', 'этой', 'задачи', 'как', 'строку,', 'разделите', 'слова', 'по', 'пробелам', 'и', 'приведите', 'к', 'нижнему', 'регистру.']\n"
          ],
          "name": "stdout"
        }
      ]
    },
    {
      "cell_type": "markdown",
      "metadata": {
        "id": "nE4N_rxk-l-L"
      },
      "source": [
        "## Задание 7\n",
        "\n",
        "Напишите код, который проверяет, является ли переменная x строкой, и если да, то если в строке больше одного слова (слово--последовательность подряд идущих символов без пробелов), то выводит на экран количество слов в этой строке и сами слова в алфавитном порядке."
      ]
    },
    {
      "cell_type": "code",
      "metadata": {
        "colab": {
          "base_uri": "https://localhost:8080/"
        },
        "id": "INh5TwAM9Xmf",
        "outputId": "8970c896-8fb2-4c71-a81e-8e5be52008c2"
      },
      "source": [
        "x = 'z hello world'\n",
        "if type(x) == str:\n",
        "    a = x.split(\" \")\n",
        "    if len(a) > 0:\n",
        "        a.sort()\n",
        "        print(len(a)) \n",
        "        for i in a: \n",
        "          print(i)"
      ],
      "execution_count": null,
      "outputs": [
        {
          "output_type": "stream",
          "text": [
            "3\n",
            "hello\n",
            "world\n",
            "z\n"
          ],
          "name": "stdout"
        }
      ]
    },
    {
      "cell_type": "markdown",
      "metadata": {
        "id": "TR1Wvx_Z-tlI"
      },
      "source": [
        "## Задание 8\n",
        "\n",
        "Напишите код, который все элементы массива x с **нечетными** индексами переставит в обратном порядке.\n",
        "\n",
        "Т.е. если x = [0, 1, 2, 3, 4, 5, 6, 7, 8, 9], то код должен получать [0, 9, 2, 7, 4, 5, 6, 3, 8, 1]"
      ]
    },
    {
      "cell_type": "code",
      "metadata": {
        "colab": {
          "base_uri": "https://localhost:8080/"
        },
        "id": "hh2ackf09QjM",
        "outputId": "fd81514e-1630-42c8-9b79-03ee1d84f46e"
      },
      "source": [
        "x =[0, 1, 2, 3, 4, 5, 6, 7, 8, 9]\n",
        "x[1::2] = x[1::2][::-1]\n",
        "print(x)"
      ],
      "execution_count": null,
      "outputs": [
        {
          "output_type": "stream",
          "text": [
            "[0, 9, 2, 7, 4, 5, 6, 3, 8, 1]\n"
          ],
          "name": "stdout"
        }
      ]
    },
    {
      "cell_type": "markdown",
      "metadata": {
        "id": "pdGccRcP-1CC"
      },
      "source": [
        "## Задание 9\n",
        "\n",
        "Напишите цикл, который выводит все числа от 0 до 500, делящиеся на 7, если в них есть цифра 8.\n",
        "\n",
        "*Подсказка*: переменную типа int можно привести к типу str:\n",
        "```\n",
        "x = 5\n",
        "y = str(x)\n",
        "```"
      ]
    },
    {
      "cell_type": "code",
      "metadata": {
        "id": "XAosJEH7sCmT",
        "colab": {
          "base_uri": "https://localhost:8080/"
        },
        "outputId": "9fd74901-3b26-4092-ff7a-7af0605aa474"
      },
      "source": [
        "for x in range(0,501):\n",
        "  if x % 7 == 0 and '8' in str(x):\n",
        "    print(x)"
      ],
      "execution_count": null,
      "outputs": [
        {
          "output_type": "stream",
          "text": [
            "28\n",
            "84\n",
            "98\n",
            "168\n",
            "182\n",
            "189\n",
            "238\n",
            "280\n",
            "287\n",
            "308\n",
            "378\n",
            "385\n",
            "448\n",
            "483\n"
          ],
          "name": "stdout"
        }
      ]
    },
    {
      "cell_type": "markdown",
      "metadata": {
        "id": "TVh-gw54BqEm"
      },
      "source": [
        "## Задание 10\n",
        "\n",
        "1. Создайте список `a`, состоящий из каких-то элементов.\n",
        "2. Создайте список `b` такого же размера, как `a`, состоящий из каких-то элементов.\n",
        "3. Выведите **нумерованный список пар** из элементов списков `a` и `b`."
      ]
    },
    {
      "cell_type": "code",
      "metadata": {
        "colab": {
          "base_uri": "https://localhost:8080/"
        },
        "id": "WkDpiGDsBcus",
        "outputId": "de8d09e8-6fa0-4f3a-b5be-5cecb1fefa0e"
      },
      "source": [
        "first = '11 22 33'.split(\" \")\n",
        "second = 'x y z'.split(\" \")\n",
        "print(list(enumerate(list(zip(first, second)))))\n",
        "print(list(zip(range(len(first) + len(second)), first, second)))"
      ],
      "execution_count": null,
      "outputs": [
        {
          "output_type": "stream",
          "text": [
            "[(0, ('11', 'x')), (1, ('22', 'y')), (2, ('33', 'z'))]\n",
            "[(0, '11', 'x'), (1, '22', 'y'), (2, '33', 'z')]\n"
          ],
          "name": "stdout"
        }
      ]
    },
    {
      "cell_type": "markdown",
      "metadata": {
        "id": "51DfEzj3B1gV"
      },
      "source": [
        "## Задание 11\n",
        "\n",
        "Дан массив строк mas. Одной строкой создайте словарь, в котором по ключу строки будет записана пара (кортеж длины 2) (индекс строки в массиве mas, длина строки)"
      ]
    },
    {
      "cell_type": "code",
      "metadata": {
        "colab": {
          "base_uri": "https://localhost:8080/"
        },
        "id": "azytv3ENBuH5",
        "outputId": "1c77298d-71bd-4abc-c816-5102412be22a"
      },
      "source": [
        "mas = ['hello', 'abc']\n",
        "d = {i: (index, len(i)) for index, i in enumerate(mas)}\n",
        "d"
      ],
      "execution_count": null,
      "outputs": [
        {
          "output_type": "execute_result",
          "data": {
            "text/plain": [
              "{'abc': (1, 3), 'hello': (0, 5)}"
            ]
          },
          "metadata": {
            "tags": []
          },
          "execution_count": 2
        }
      ]
    },
    {
      "cell_type": "code",
      "metadata": {
        "colab": {
          "base_uri": "https://localhost:8080/"
        },
        "id": "7i1xRRoNL6d6",
        "outputId": "b371d20c-74fe-438d-825f-6a9ad60c0ce6"
      },
      "source": [
        "m = {'tr': 3, 'ts': 4}\n",
        "m\n",
        "sum(list(m.values()))"
      ],
      "execution_count": null,
      "outputs": [
        {
          "output_type": "execute_result",
          "data": {
            "text/plain": [
              "7"
            ]
          },
          "metadata": {
            "tags": []
          },
          "execution_count": 43
        }
      ]
    },
    {
      "cell_type": "markdown",
      "metadata": {
        "id": "NNgNKKtUB-7d"
      },
      "source": [
        "## Задание 12\n",
        "\n",
        "Релизовать функцию, которая возвращает сумму всех позиционных и именованных аргументов."
      ]
    },
    {
      "cell_type": "code",
      "metadata": {
        "colab": {
          "base_uri": "https://localhost:8080/"
        },
        "id": "8MrgHc1eB47J",
        "outputId": "73e95a43-0815-47ed-a574-48a9efb2f84b"
      },
      "source": [
        "def func(*args, **kwargs):\n",
        "  return sum(args)+ sum(list(kwargs.values()))\n",
        "print(func(1, 2, 3, a=4, b=5))"
      ],
      "execution_count": 5,
      "outputs": [
        {
          "output_type": "stream",
          "text": [
            "15\n"
          ],
          "name": "stdout"
        }
      ]
    },
    {
      "cell_type": "markdown",
      "metadata": {
        "id": "l-3fE5H-CIqe"
      },
      "source": [
        "## Задание 13\n",
        "\n",
        "Реализовать функцию, которая сохраняет в 2 глобальные переменные:\n",
        "* сумму всех позиционных аргументов - релизовать через  lambda;\n",
        "* название всех именованных аргументов в виде списка."
      ]
    },
    {
      "cell_type": "code",
      "metadata": {
        "colab": {
          "base_uri": "https://localhost:8080/"
        },
        "id": "Nhp1NLZJCGXI",
        "outputId": "9f2ba27a-eb39-4d78-ae29-f4268208c887"
      },
      "source": [
        "summ = 0\n",
        "names = []\n",
        "def another_func(*args, **kwargs):\n",
        "    global summ, names\n",
        "    summ = sum(args)\n",
        "    names = list(kwargs.keys())\n",
        "another_func(1,2,3, a = 4, b = 5)\n",
        "print(f'Сумма: {summ}, названия {names}')"
      ],
      "execution_count": 207,
      "outputs": [
        {
          "output_type": "stream",
          "text": [
            "Сумма: 6, названия ['a', 'b']\n"
          ],
          "name": "stdout"
        }
      ]
    },
    {
      "cell_type": "markdown",
      "metadata": {
        "id": "HPbaEwHLCTLI"
      },
      "source": [
        "## Задание 14\n",
        "\n",
        "Реализовать класс с 2 функциями:\n",
        "\n",
        "*   Первая функция копирует функционал задачи №13, но сохраняет переменные в области видимости класса;\n",
        "*   Вторая функция отображает на экран сумму и названия именованных аргументов.\n",
        "\n"
      ]
    },
    {
      "cell_type": "code",
      "metadata": {
        "colab": {
          "base_uri": "https://localhost:8080/"
        },
        "id": "FvqwsvY4COmH",
        "outputId": "3d83c749-8505-470c-914d-e1c6f6c3d48a"
      },
      "source": [
        "class Solution:\n",
        "  def another_func(self, *args, **kwargs):\n",
        "    summ = sum(args)\n",
        "    names = list(kwargs.keys())\n",
        "  def print_args_kwargs(self):\n",
        "    print(f'Сумма: {summ}, названия {names}')\n",
        "class_obj = Solution()\n",
        "class_obj.another_func(1, 2, 3, a=4, b=5)\n",
        "class_obj.print_args_kwargs()"
      ],
      "execution_count": 228,
      "outputs": [
        {
          "output_type": "stream",
          "text": [
            "Сумма: 6, названия ['a', 'b']\n"
          ],
          "name": "stdout"
        }
      ]
    },
    {
      "cell_type": "markdown",
      "metadata": {
        "id": "ocdP7w05b9cC"
      },
      "source": [
        "<div style=\"background:red\">&nbsp;</div>\n",
        "<h1>Занятие 2</h1>\n",
        "<div style=\"background:red\">&nbsp;</div>"
      ]
    },
    {
      "cell_type": "code",
      "metadata": {
        "id": "D-Lc19J4WL-3"
      },
      "source": [
        "# загрузим библиотеки\n",
        "import numpy as np\n",
        "import pandas as pd"
      ],
      "execution_count": 229,
      "outputs": []
    },
    {
      "cell_type": "markdown",
      "metadata": {
        "id": "ZYcKnimkFRrD"
      },
      "source": [
        "## Задание 1\n",
        "\n",
        "Создайте массив массив из 100 элементов (от 1 до 100), переформатируйте в формат (10 * 10), сделайте слайсинг с шагом 2 по каждой оси."
      ]
    },
    {
      "cell_type": "code",
      "metadata": {
        "colab": {
          "base_uri": "https://localhost:8080/"
        },
        "id": "wAPfX3erFUqa",
        "outputId": "cbc4366b-36b1-49f7-bcb6-4a976d86ba8b"
      },
      "source": [
        "a = np.array(range(1,101))\n",
        "a = a.reshape(10,10)\n",
        "a[0:10:2, ::2]"
      ],
      "execution_count": 263,
      "outputs": [
        {
          "output_type": "execute_result",
          "data": {
            "text/plain": [
              "array([[ 1,  3,  5,  7,  9],\n",
              "       [21, 23, 25, 27, 29],\n",
              "       [41, 43, 45, 47, 49],\n",
              "       [61, 63, 65, 67, 69],\n",
              "       [81, 83, 85, 87, 89]])"
            ]
          },
          "metadata": {
            "tags": []
          },
          "execution_count": 263
        }
      ]
    },
    {
      "cell_type": "markdown",
      "metadata": {
        "id": "SrI3heKeV7nP"
      },
      "source": [
        "## Задание 2\n",
        "\n",
        "Написать функцию, которая по заданной длине последовательности находит среднее арифметическое ее членов.\n",
        "\n",
        "Реализуйте задачу с и без помощи numpy, сравните время выполнения"
      ]
    },
    {
      "cell_type": "code",
      "metadata": {
        "colab": {
          "base_uri": "https://localhost:8080/"
        },
        "id": "2-5-E2pCV_Ot",
        "outputId": "a17ac285-c550-44f4-edad-053157d3c4a8"
      },
      "source": [
        "# решение с использованием numpy\n",
        "# для оценки времени исоплнения блока\n",
        "%%time\n",
        "# зададим длину нашей последовательности\n",
        "dlina_posl = 100_000_000\n",
        "\n",
        "import numpy as np\n",
        "r = np.mean(np.arange(0, dlina_posl))\n",
        "print(f'Среднее арифметическое последовательности: {r}')"
      ],
      "execution_count": 19,
      "outputs": [
        {
          "output_type": "stream",
          "text": [
            "Среднее арифметическое последовательности: 49999999.5\n",
            "CPU times: user 331 ms, sys: 20.1 ms, total: 351 ms\n",
            "Wall time: 359 ms\n"
          ],
          "name": "stdout"
        }
      ]
    },
    {
      "cell_type": "code",
      "metadata": {
        "colab": {
          "base_uri": "https://localhost:8080/"
        },
        "id": "9e3X5PEpWBjA",
        "outputId": "86492300-4045-4320-dd4c-e1c044708dbd"
      },
      "source": [
        "# решение без использования numpy\n",
        "# для оценки времени исоплнения блока\n",
        "%%time\n",
        "def func1(dlina_posl):\n",
        "  ls = list(range(0,dlina_posl))\n",
        "  global r\n",
        "  r = sum(ls)/len(ls)\n",
        "  return r\n",
        "func1(100_000_000)\n",
        "print(f'Среднее арифметическое последовательности: {r}')"
      ],
      "execution_count": 17,
      "outputs": [
        {
          "output_type": "stream",
          "text": [
            "Среднее арифметическое последовательности: 49999999.5\n",
            "CPU times: user 3.36 s, sys: 1.69 s, total: 5.05 s\n",
            "Wall time: 5.04 s\n"
          ],
          "name": "stdout"
        }
      ]
    },
    {
      "cell_type": "markdown",
      "metadata": {
        "id": "aF_IhXzJFWzJ"
      },
      "source": [
        "## Задание 3\n",
        "\n",
        "Задан Series объект s, найти индекс первого элемента отсортированного s, где значения больше 5"
      ]
    },
    {
      "cell_type": "code",
      "metadata": {
        "colab": {
          "base_uri": "https://localhost:8080/"
        },
        "id": "PzrBc2RRFYom",
        "outputId": "743191e9-f371-41ba-9f35-4c7f76b0d392"
      },
      "source": [
        "# задано изначально\n",
        "import pandas as pd\n",
        "r = np.random.RandomState(1)\n",
        "s=pd.Series(r.uniform(0, 10, 100))\n",
        "s = s.sort_values()\n",
        "print(s[s > 5].index[0])"
      ],
      "execution_count": 40,
      "outputs": [
        {
          "output_type": "stream",
          "text": [
            "67\n"
          ],
          "name": "stdout"
        }
      ]
    },
    {
      "cell_type": "markdown",
      "metadata": {
        "id": "lK7mPJPRWcs2"
      },
      "source": [
        "## Задание 4\n",
        "\n",
        "Предположим, что мы наблюдаем за некоторым признаком нашего датасета, но в данных есть пропуски. Ваша задача: реализовать алгоритм заполнения пропущенных значений последним известным с помощью средств python и pandas. (подсказка: вам может помочь функция np.isnan(), которая возвращает True, если число - nan. Для реализации с пандас стоит посмотреть на метод .fillna).\n",
        "\n",
        "Изначальный код с инициализацией такого датасета предоставлен."
      ]
    },
    {
      "cell_type": "code",
      "metadata": {
        "colab": {
          "base_uri": "https://localhost:8080/",
          "height": 299
        },
        "id": "Eu5g1x-hWcA1",
        "outputId": "a9f4dadc-004b-4be6-f97a-6b985083da9f"
      },
      "source": [
        "# импортируем библиотеку для создания шума\n",
        "import random\n",
        "# библиотека для визуализации\n",
        "import matplotlib.pyplot as plt\n",
        "\n",
        "# создадим наши данные и добавим к каждой точке синусоиды случайный шум\n",
        "a = np.linspace(0, 25, 100)\n",
        "a = np.sin(a) + [random.gauss(0, 0.2) for i in range(len(a))]\n",
        "\n",
        "# создадим 10 случайных пропусков\n",
        "for i in range(10):\n",
        "    a[random.randint(0, len(a) - 1)] = None\n",
        "# создадим датафрейм\n",
        "df = pd.DataFrame({'target':a})\n",
        "\n",
        "# ваш код тут\n",
        "df.fillna(method='ffill', inplace=True)\n",
        "\n",
        "# отобразим\n",
        "plt.plot(df.target.values)"
      ],
      "execution_count": 54,
      "outputs": [
        {
          "output_type": "stream",
          "text": [
            "False\n"
          ],
          "name": "stdout"
        },
        {
          "output_type": "execute_result",
          "data": {
            "text/plain": [
              "[<matplotlib.lines.Line2D at 0x7fc5dfb67810>]"
            ]
          },
          "metadata": {
            "tags": []
          },
          "execution_count": 54
        },
        {
          "output_type": "display_data",
          "data": {
            "image/png": "[encoded data removed]",
            "text/plain": [
              "<Figure size 432x288 with 1 Axes>"
            ]
          },
          "metadata": {
            "tags": [],
            "needs_background": "light"
          }
        }
      ]
    },
    {
      "cell_type": "markdown",
      "metadata": {
        "id": "5gYj1TeyW9Aq"
      },
      "source": [
        "## Задание 5\n",
        "\n",
        "Имеется небольшой игрушечный датафрейм, в котором необходимо провести несколько типов фильтраций (ответы ищите в решениях) и отобразить результат:\n",
        "\n",
        "* всех, кто старше 40\n",
        "* всех, кто имеет доход выше среднего по датасету\n",
        "* всех, кто имеет доход выше среднего по датасету, но надежность ниже среднего по датасету\n",
        "\n",
        "создать новые столбцы:\n",
        "\n",
        "* важность клиента = доход * надежность\n",
        "* возможная долгосрочность клиента = важность клиента * (средний возраст по датасету - возраст клиента)\n",
        "\n",
        "`подсказка: двойные условия записываются так: (условие 1) & (условие 2)`\n",
        "\n",
        "\n",
        "** примечание: столбцы не имеют отношения к реальным формулам или моделям, они необходимы только для наглядности"
      ]
    },
    {
      "cell_type": "code",
      "metadata": {
        "colab": {
          "base_uri": "https://localhost:8080/"
        },
        "id": "vHvedF6tXAWF",
        "outputId": "ac8bff12-fd72-4cb9-ff35-484a56d44af8"
      },
      "source": [
        "# создадим тестовый датасет\n",
        "df = pd.DataFrame({\n",
        "    'имя': ['Петя', 'Вася', 'Аня', 'Света'],\n",
        "    'возраст': [45, 26, 41 , 21],\n",
        "    'доход': [100000, 80000, 150000, 60000],\n",
        "    'надежность клиента (0..1)': [0.65, 0.74, 0.87, 0.68],\n",
        "    'пол': ['муж', 'муж', 'жен', 'жен']},\n",
        "    index=[0, 1, 2, 3])\n",
        "\n",
        "# ваш код тут\n",
        "df[df['возраст']>40]\n",
        "df[df.доход>df.доход.mean()]\n",
        "df[(df['надежность клиента (0..1)'])<df['надежность клиента (0..1)'].mean()]\n",
        "df['важность клиента']=df['доход'] * df['надежность клиента (0..1)']\n",
        "df['возможная долгосрочность клиента']=df['важность клиента'] * (np.average(df['возраст'])-df['возраст'])\n",
        "print(df)"
      ],
      "execution_count": 90,
      "outputs": [
        {
          "output_type": "stream",
          "text": [
            "     имя  возраст  ...  важность клиента  возможная долгосрочность клиента\n",
            "0   Петя       45  ...           65000.0                         -763750.0\n",
            "1   Вася       26  ...           59200.0                          429200.0\n",
            "2    Аня       41  ...          130500.0                        -1011375.0\n",
            "3  Света       21  ...           40800.0                          499800.0\n",
            "\n",
            "[4 rows x 7 columns]\n"
          ],
          "name": "stdout"
        }
      ]
    },
    {
      "cell_type": "markdown",
      "metadata": {
        "id": "MxFoJ2LubuYU"
      },
      "source": [
        "## Задание 6\n",
        "\n",
        "Посмотрите на блок Exploratory data analysis, используйте данные, кототрые вы загрузили в ходе его освоения. Ваша задача - вывести имена всех выживших детей и их количество"
      ]
    },
    {
      "cell_type": "code",
      "metadata": {
        "id": "i1IrZOJ1uQVw"
      },
      "source": [
        "import pandas as pd\n",
        "data = pd.read_csv('https://web.stanford.edu/class/archive/cs/cs109/cs109.1166/stuff/titanic.csv')"
      ],
      "execution_count": 3,
      "outputs": []
    },
    {
      "cell_type": "code",
      "metadata": {
        "id": "yCXtLEbCuTvU",
        "colab": {
          "base_uri": "https://localhost:8080/"
        },
        "outputId": "e5f91aa8-0267-47f5-d518-b97c9a187fdf"
      },
      "source": [
        "list(data[data['Survived']==1][data['Age']<18]['Name'])"
      ],
      "execution_count": 37,
      "outputs": [
        {
          "output_type": "stream",
          "text": [
            "/usr/local/lib/python3.7/dist-packages/ipykernel_launcher.py:1: UserWarning: Boolean Series key will be reindexed to match DataFrame index.\n",
            "  \"\"\"Entry point for launching an IPython kernel.\n"
          ],
          "name": "stderr"
        },
        {
          "output_type": "execute_result",
          "data": {
            "text/plain": [
              "['Mrs. Nicholas (Adele Achem) Nasser',\n",
              " 'Miss. Marguerite Rut Sandstrom',\n",
              " 'Miss. Anna McGowan',\n",
              " 'Miss. Jamila Nicola-Yarred',\n",
              " 'Miss. Simonne Marie Anne Andree Laroche',\n",
              " 'Miss. Constance Mirium West',\n",
              " 'Master. Gerios Moubarek',\n",
              " 'Miss. Erna Alexandra Andersson',\n",
              " 'Master. Alden Gates Caldwell',\n",
              " 'Miss. Bertha Ilett',\n",
              " 'Master. Elias Nicola-Yarred',\n",
              " 'Miss. Anna Peter',\n",
              " 'Miss. Katherine Gilnagh',\n",
              " 'Master. Frank John William Goldsmith',\n",
              " 'Miss. Eleanor Ileen Johnson',\n",
              " 'Master. Richard F Becker',\n",
              " 'Miss. Luise Gretchen Kink-Heilmann',\n",
              " 'Master. Michel M Navratil',\n",
              " 'Miss. Helen Carr',\n",
              " 'Mr. Victor Francis Sunderland',\n",
              " 'Miss. Lillian Gertrud Asplund',\n",
              " 'Miss. Marjorie Collyer',\n",
              " 'Master. Edvin Rojj Felix Asplund',\n",
              " 'Master. Hudson Trevor Allison',\n",
              " 'Mrs. Victor de Satode (Maria Josefa Perez de Soto y Vallejo) Penasco y Castellana',\n",
              " 'Miss. Jean Gertrude Hippach',\n",
              " 'Master. Edmond Roger Navratil',\n",
              " 'Master. William Loch Coutts',\n",
              " 'Miss. Maria Nakid',\n",
              " 'Miss. Bertha Lehmann',\n",
              " 'Master. William Rowe Richards',\n",
              " 'Miss. Lucile Polk Carter',\n",
              " 'Master. Washington Dodge',\n",
              " 'Miss. Madeleine Violet Mellinger',\n",
              " 'Miss. Marie Catherine Baclini',\n",
              " 'Miss. Helene Barbara Baclini',\n",
              " 'Miss. Hildur E Hirvonen',\n",
              " 'Master. Eden Leslie Coutts',\n",
              " 'Miss. Roberta Maioni',\n",
              " 'Miss. Phyllis May Quick',\n",
              " 'Miss. Eva Miriam Hart',\n",
              " 'Master. John Morgan Jr Davies',\n",
              " 'Mr. John Borland Jr Thayer',\n",
              " 'Miss. Marion Louise Becker',\n",
              " 'Miss. Eugenie Baclini',\n",
              " \"Miss. Hanora O'Leary\",\n",
              " 'Miss. Georgette Alexandra Madill',\n",
              " 'Miss. Manca Karun',\n",
              " 'Master. Halim Gonios Moubarek',\n",
              " 'Miss. Annie Jessie Harper',\n",
              " 'Miss. Joan Wells',\n",
              " 'Master. Meier Moor',\n",
              " 'Master. Viljo Hamalainen',\n",
              " 'Miss. Virginia Ethel Emanuel',\n",
              " 'Miss. Banoura Ayoub',\n",
              " 'Mrs. Albert Adrian (Vera Gillespie) Dick',\n",
              " 'Master. Bertram Vere Dean',\n",
              " 'Master. William Thornton II Carter',\n",
              " 'Master. Assad Alexander Thomas',\n",
              " 'Master. Andre Mallet',\n",
              " 'Mrs. Antoni (Selini Alexander) Yasbeck',\n",
              " 'Master. George Sibley Richards',\n",
              " 'Miss. Mary Conover Lines',\n",
              " 'Master. Harold Theodor Johnson',\n",
              " 'Miss. Adele Kiamie Najib']"
            ]
          },
          "metadata": {
            "tags": []
          },
          "execution_count": 37
        }
      ]
    },
    {
      "cell_type": "code",
      "metadata": {
        "id": "cDMsJv0ab9cb",
        "colab": {
          "base_uri": "https://localhost:8080/"
        },
        "outputId": "1c0fe0eb-8f60-402b-83d8-503ab11f3257"
      },
      "source": [
        "print(len(list(data[data['Survived']==1][data['Age']<18]['Name'])))"
      ],
      "execution_count": 38,
      "outputs": [
        {
          "output_type": "stream",
          "text": [
            "65\n"
          ],
          "name": "stdout"
        },
        {
          "output_type": "stream",
          "text": [
            "/usr/local/lib/python3.7/dist-packages/ipykernel_launcher.py:1: UserWarning: Boolean Series key will be reindexed to match DataFrame index.\n",
            "  \"\"\"Entry point for launching an IPython kernel.\n"
          ],
          "name": "stderr"
        }
      ]
    }
  ]
}