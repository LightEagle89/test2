{
  "nbformat": 4,
  "nbformat_minor": 0,
  "metadata": {
    "colab": {
      "name": "ДЗ№4.ipynb",
      "provenance": [],
      "collapsed_sections": [],
      "toc_visible": true,
      "include_colab_link": true
    },
    "kernelspec": {
      "name": "python3",
      "display_name": "Python 3"
    }
  },
  "cells": [
    {
      "cell_type": "markdown",
      "metadata": {
        "id": "view-in-github",
        "colab_type": "text"
      },
      "source": [
        "<a href=\"https://colab.research.google.com/github/LightEagle89/test2/blob/main/%D0%94%D0%97%E2%84%964.ipynb\" target=\"_parent\"><img src=\"https://colab.research.google.com/assets/colab-badge.svg\" alt=\"Open In Colab\"/></a>"
      ]
    },
    {
      "cell_type": "code",
      "metadata": {
        "id": "bzEXbxmA9_wX"
      },
      "source": [
        "import numpy as np\n",
        "import pandas as pd\n",
        "import matplotlib.pyplot as plt\n",
        "from scipy.stats import norm\n",
        "import seaborn as sns\n",
        "import scipy.stats\n",
        "import scipy as sp"
      ],
      "execution_count": 420,
      "outputs": []
    },
    {
      "cell_type": "markdown",
      "metadata": {
        "id": "Xx_OFyJOx8iK"
      },
      "source": [
        "# Задача №1 (3б)\n",
        "\n",
        "Пусткай у вас имеется датасет с описанием людей и меткой ' <=50K', которая показывает, получает ли человек (в США) более или менее 50к$ в год. Используя теорему Байеса покажите, что с ростом образования вероятность получать >50k в год растет.\n",
        "\n",
        "Код загрузки данных и результирующая таблица предоставлены.\n",
        "\n",
        "[Подсказка, теорема Байеса говорит нам, что\n",
        "\n",
        "$$P( > или < 50k|класс-образования) = \\frac{P(класс-образования | > или < 50k) * P(> или < 50k)}{P(наблюдать-этот-класс-образования)}$$\n",
        "\n",
        "\n",
        "Для лаконичной агрегации данных в pandas встроена функция [group by](https://realpython.com/pandas-groupby/)\n",
        "]"
      ]
    },
    {
      "cell_type": "code",
      "metadata": {
        "id": "vkOIZxA-xsug"
      },
      "source": [
        "df_temp = pd.read_csv('https://archive.ics.uci.edu/ml/machine-learning-databases/adult/adult.data')\n",
        "columns = ('age workclass fnlwgt education educ-num marital-status occupation relationship '\n",
        "           'race sex capital-gain capital-loss  hours-per-week native-country salary')\n",
        "df_temp.columns = columns.split()"
      ],
      "execution_count": null,
      "outputs": []
    },
    {
      "cell_type": "code",
      "metadata": {
        "id": "mxTpmI2t9-YY",
        "colab": {
          "base_uri": "https://localhost:8080/",
          "height": 411
        },
        "outputId": "d68b9471-88c5-4c13-94f7-54a455fa8ae5"
      },
      "source": [
        "df_temp.head()"
      ],
      "execution_count": null,
      "outputs": [
        {
          "output_type": "execute_result",
          "data": {
            "text/html": [
              "<div>\n",
              "<style scoped>\n",
              "    .dataframe tbody tr th:only-of-type {\n",
              "        vertical-align: middle;\n",
              "    }\n",
              "\n",
              "    .dataframe tbody tr th {\n",
              "        vertical-align: top;\n",
              "    }\n",
              "\n",
              "    .dataframe thead th {\n",
              "        text-align: right;\n",
              "    }\n",
              "</style>\n",
              "<table border=\"1\" class=\"dataframe\">\n",
              "  <thead>\n",
              "    <tr style=\"text-align: right;\">\n",
              "      <th></th>\n",
              "      <th>age</th>\n",
              "      <th>workclass</th>\n",
              "      <th>fnlwgt</th>\n",
              "      <th>education</th>\n",
              "      <th>educ-num</th>\n",
              "      <th>marital-status</th>\n",
              "      <th>occupation</th>\n",
              "      <th>relationship</th>\n",
              "      <th>race</th>\n",
              "      <th>sex</th>\n",
              "      <th>capital-gain</th>\n",
              "      <th>capital-loss</th>\n",
              "      <th>hours-per-week</th>\n",
              "      <th>native-country</th>\n",
              "      <th>salary</th>\n",
              "    </tr>\n",
              "  </thead>\n",
              "  <tbody>\n",
              "    <tr>\n",
              "      <th>0</th>\n",
              "      <td>50</td>\n",
              "      <td>Self-emp-not-inc</td>\n",
              "      <td>83311</td>\n",
              "      <td>Bachelors</td>\n",
              "      <td>13</td>\n",
              "      <td>Married-civ-spouse</td>\n",
              "      <td>Exec-managerial</td>\n",
              "      <td>Husband</td>\n",
              "      <td>White</td>\n",
              "      <td>Male</td>\n",
              "      <td>0</td>\n",
              "      <td>0</td>\n",
              "      <td>13</td>\n",
              "      <td>United-States</td>\n",
              "      <td>&lt;=50K</td>\n",
              "    </tr>\n",
              "    <tr>\n",
              "      <th>1</th>\n",
              "      <td>38</td>\n",
              "      <td>Private</td>\n",
              "      <td>215646</td>\n",
              "      <td>HS-grad</td>\n",
              "      <td>9</td>\n",
              "      <td>Divorced</td>\n",
              "      <td>Handlers-cleaners</td>\n",
              "      <td>Not-in-family</td>\n",
              "      <td>White</td>\n",
              "      <td>Male</td>\n",
              "      <td>0</td>\n",
              "      <td>0</td>\n",
              "      <td>40</td>\n",
              "      <td>United-States</td>\n",
              "      <td>&lt;=50K</td>\n",
              "    </tr>\n",
              "    <tr>\n",
              "      <th>2</th>\n",
              "      <td>53</td>\n",
              "      <td>Private</td>\n",
              "      <td>234721</td>\n",
              "      <td>11th</td>\n",
              "      <td>7</td>\n",
              "      <td>Married-civ-spouse</td>\n",
              "      <td>Handlers-cleaners</td>\n",
              "      <td>Husband</td>\n",
              "      <td>Black</td>\n",
              "      <td>Male</td>\n",
              "      <td>0</td>\n",
              "      <td>0</td>\n",
              "      <td>40</td>\n",
              "      <td>United-States</td>\n",
              "      <td>&lt;=50K</td>\n",
              "    </tr>\n",
              "    <tr>\n",
              "      <th>3</th>\n",
              "      <td>28</td>\n",
              "      <td>Private</td>\n",
              "      <td>338409</td>\n",
              "      <td>Bachelors</td>\n",
              "      <td>13</td>\n",
              "      <td>Married-civ-spouse</td>\n",
              "      <td>Prof-specialty</td>\n",
              "      <td>Wife</td>\n",
              "      <td>Black</td>\n",
              "      <td>Female</td>\n",
              "      <td>0</td>\n",
              "      <td>0</td>\n",
              "      <td>40</td>\n",
              "      <td>Cuba</td>\n",
              "      <td>&lt;=50K</td>\n",
              "    </tr>\n",
              "    <tr>\n",
              "      <th>4</th>\n",
              "      <td>37</td>\n",
              "      <td>Private</td>\n",
              "      <td>284582</td>\n",
              "      <td>Masters</td>\n",
              "      <td>14</td>\n",
              "      <td>Married-civ-spouse</td>\n",
              "      <td>Exec-managerial</td>\n",
              "      <td>Wife</td>\n",
              "      <td>White</td>\n",
              "      <td>Female</td>\n",
              "      <td>0</td>\n",
              "      <td>0</td>\n",
              "      <td>40</td>\n",
              "      <td>United-States</td>\n",
              "      <td>&lt;=50K</td>\n",
              "    </tr>\n",
              "  </tbody>\n",
              "</table>\n",
              "</div>"
            ],
            "text/plain": [
              "   age          workclass  fnlwgt  ... hours-per-week  native-country  salary\n",
              "0   50   Self-emp-not-inc   83311  ...             13   United-States   <=50K\n",
              "1   38            Private  215646  ...             40   United-States   <=50K\n",
              "2   53            Private  234721  ...             40   United-States   <=50K\n",
              "3   28            Private  338409  ...             40            Cuba   <=50K\n",
              "4   37            Private  284582  ...             40   United-States   <=50K\n",
              "\n",
              "[5 rows x 15 columns]"
            ]
          },
          "metadata": {
            "tags": []
          },
          "execution_count": 3
        }
      ]
    },
    {
      "cell_type": "code",
      "metadata": {
        "id": "r_-ugOFL-AaK",
        "colab": {
          "base_uri": "https://localhost:8080/",
          "height": 204
        },
        "outputId": "d11ccaa5-62eb-4ad4-cbf4-8ee92c98eea2"
      },
      "source": [
        "df_temp[['education', 'salary']].head()"
      ],
      "execution_count": null,
      "outputs": [
        {
          "output_type": "execute_result",
          "data": {
            "text/html": [
              "<div>\n",
              "<style scoped>\n",
              "    .dataframe tbody tr th:only-of-type {\n",
              "        vertical-align: middle;\n",
              "    }\n",
              "\n",
              "    .dataframe tbody tr th {\n",
              "        vertical-align: top;\n",
              "    }\n",
              "\n",
              "    .dataframe thead th {\n",
              "        text-align: right;\n",
              "    }\n",
              "</style>\n",
              "<table border=\"1\" class=\"dataframe\">\n",
              "  <thead>\n",
              "    <tr style=\"text-align: right;\">\n",
              "      <th></th>\n",
              "      <th>education</th>\n",
              "      <th>salary</th>\n",
              "    </tr>\n",
              "  </thead>\n",
              "  <tbody>\n",
              "    <tr>\n",
              "      <th>0</th>\n",
              "      <td>Bachelors</td>\n",
              "      <td>&lt;=50K</td>\n",
              "    </tr>\n",
              "    <tr>\n",
              "      <th>1</th>\n",
              "      <td>HS-grad</td>\n",
              "      <td>&lt;=50K</td>\n",
              "    </tr>\n",
              "    <tr>\n",
              "      <th>2</th>\n",
              "      <td>11th</td>\n",
              "      <td>&lt;=50K</td>\n",
              "    </tr>\n",
              "    <tr>\n",
              "      <th>3</th>\n",
              "      <td>Bachelors</td>\n",
              "      <td>&lt;=50K</td>\n",
              "    </tr>\n",
              "    <tr>\n",
              "      <th>4</th>\n",
              "      <td>Masters</td>\n",
              "      <td>&lt;=50K</td>\n",
              "    </tr>\n",
              "  </tbody>\n",
              "</table>\n",
              "</div>"
            ],
            "text/plain": [
              "    education  salary\n",
              "0   Bachelors   <=50K\n",
              "1     HS-grad   <=50K\n",
              "2        11th   <=50K\n",
              "3   Bachelors   <=50K\n",
              "4     Masters   <=50K"
            ]
          },
          "metadata": {
            "tags": []
          },
          "execution_count": 4
        }
      ]
    },
    {
      "cell_type": "code",
      "metadata": {
        "id": "qbKPCPai-CHa",
        "colab": {
          "base_uri": "https://localhost:8080/"
        },
        "outputId": "618df0b3-6a65-4529-e4df-d678d8540be0"
      },
      "source": [
        "df_temp.groupby(['education'])['education'].count().sort_values(ascending = False)"
      ],
      "execution_count": null,
      "outputs": [
        {
          "output_type": "execute_result",
          "data": {
            "text/plain": [
              "education\n",
              " HS-grad         10501\n",
              " Some-college     7291\n",
              " Bachelors        5354\n",
              " Masters          1723\n",
              " Assoc-voc        1382\n",
              " 11th             1175\n",
              " Assoc-acdm       1067\n",
              " 10th              933\n",
              " 7th-8th           646\n",
              " Prof-school       576\n",
              " 9th               514\n",
              " 12th              433\n",
              " Doctorate         413\n",
              " 5th-6th           333\n",
              " 1st-4th           168\n",
              " Preschool          51\n",
              "Name: education, dtype: int64"
            ]
          },
          "metadata": {
            "tags": []
          },
          "execution_count": 5
        }
      ]
    },
    {
      "cell_type": "code",
      "metadata": {
        "id": "i9ilrPY7-DWy",
        "colab": {
          "base_uri": "https://localhost:8080/"
        },
        "outputId": "a8cf08c7-8731-4e07-f345-182b757f9fc9"
      },
      "source": [
        "df_temp[['education', 'salary']].groupby(['salary'])['salary'].count()"
      ],
      "execution_count": null,
      "outputs": [
        {
          "output_type": "execute_result",
          "data": {
            "text/plain": [
              "salary\n",
              " <=50K    24719\n",
              " >50K      7841\n",
              "Name: salary, dtype: int64"
            ]
          },
          "metadata": {
            "tags": []
          },
          "execution_count": 6
        }
      ]
    },
    {
      "cell_type": "code",
      "metadata": {
        "id": "OVqwaLUl-EOK",
        "colab": {
          "base_uri": "https://localhost:8080/"
        },
        "outputId": "c9589c5f-8810-48bb-ca56-2ddd2f4eb583"
      },
      "source": [
        "print(df_temp[df_temp['salary'] == \" <=50K\"]['salary'].count() / df_temp[['education','salary']].groupby(['salary'])['salary'].count().sum())\n",
        "print(df_temp[df_temp['salary'] == \" >50K\"]['salary'].count() / df_temp[['education','salary']].groupby(['salary'])['salary'].count().sum())"
      ],
      "execution_count": null,
      "outputs": [
        {
          "output_type": "stream",
          "text": [
            "0.7591830466830467\n",
            "0.24081695331695332\n"
          ],
          "name": "stdout"
        }
      ]
    },
    {
      "cell_type": "markdown",
      "metadata": {
        "id": "jPJvUjC7-LBB"
      },
      "source": [
        "Подсказка: см. мультииндекс и groupby\n",
        "\n",
        "Да, код не иметь \"красивое\" решение"
      ]
    },
    {
      "cell_type": "code",
      "metadata": {
        "id": "pXhcXOmyflU3",
        "colab": {
          "base_uri": "https://localhost:8080/",
          "height": 1000
        },
        "outputId": "0b06d8f1-e613-4aed-a4c4-5753acea02ca"
      },
      "source": [
        "df = df_temp[df_temp['salary'] == ' <=50K'].groupby('education').count()\n",
        "df['salary2'] = ' <=50K'\n",
        "df2 = df_temp[df_temp['salary'] == ' >50K'].groupby('education').count()\n",
        "df2['salary2'] = ' >50K'\n",
        "df3 = pd.concat([df,df2])\n",
        "df3['people'] = df3.groupby('education')['salary'].sum()\n",
        "df3.sort_values(by = 'education', inplace=True)\n",
        "df3.drop(['age', 'workclass', 'fnlwgt', 'educ-num', 'marital-status', 'occupation', 'relationship', 'race', 'sex', 'capital-gain', 'capital-loss', 'hours-per-week', 'native-country'], axis = 1, inplace = True)\n",
        "df3.insert(0,'<=50K',df3['salary2'])\n",
        "df3.drop('salary2', axis = 1, inplace=True)\n",
        "df3['P1'] = df3['people'] / df3['salary'].sum()\n",
        "df4 = df3[df3['<=50K'] == ' <=50K'].copy()\n",
        "df4['P2'] = df4.salary.sum() / df4.people.sum()\n",
        "df5 = df3[df3['<=50K'] == ' >50K'].copy()\n",
        "df5['P2'] = df5.salary.sum() / df5.people.sum()\n",
        "df6 = pd.concat([df4,df5])\n",
        "df6.sort_values(by = 'education', inplace=True)\n",
        "df6['P4'] = df6.salary / df6.people\n",
        "df6['P3'] = df6.P1 / df6.P2 * df6.P4\n",
        "df6.insert(5,'P33',df6['P3'])\n",
        "df6.drop('P3', inplace=True, axis = 1)\n",
        "df6.rename(columns={'P33': 'P3'}, inplace=True)\n",
        "df6.reset_index(inplace=True)\n",
        "df6.loc[(df6['<=50K'] == ' >50K'), 'education'] = ''\n",
        "df6.set_index('education', inplace=True)\n",
        "df6"
      ],
      "execution_count": null,
      "outputs": [
        {
          "output_type": "execute_result",
          "data": {
            "text/html": [
              "<div>\n",
              "<style scoped>\n",
              "    .dataframe tbody tr th:only-of-type {\n",
              "        vertical-align: middle;\n",
              "    }\n",
              "\n",
              "    .dataframe tbody tr th {\n",
              "        vertical-align: top;\n",
              "    }\n",
              "\n",
              "    .dataframe thead th {\n",
              "        text-align: right;\n",
              "    }\n",
              "</style>\n",
              "<table border=\"1\" class=\"dataframe\">\n",
              "  <thead>\n",
              "    <tr style=\"text-align: right;\">\n",
              "      <th></th>\n",
              "      <th>&lt;=50K</th>\n",
              "      <th>salary</th>\n",
              "      <th>people</th>\n",
              "      <th>P1</th>\n",
              "      <th>P2</th>\n",
              "      <th>P3</th>\n",
              "      <th>P4</th>\n",
              "    </tr>\n",
              "    <tr>\n",
              "      <th>education</th>\n",
              "      <th></th>\n",
              "      <th></th>\n",
              "      <th></th>\n",
              "      <th></th>\n",
              "      <th></th>\n",
              "      <th></th>\n",
              "      <th></th>\n",
              "    </tr>\n",
              "  </thead>\n",
              "  <tbody>\n",
              "    <tr>\n",
              "      <th>10th</th>\n",
              "      <td>&lt;=50K</td>\n",
              "      <td>871</td>\n",
              "      <td>933</td>\n",
              "      <td>0.028655</td>\n",
              "      <td>0.759183</td>\n",
              "      <td>0.035236</td>\n",
              "      <td>0.933548</td>\n",
              "    </tr>\n",
              "    <tr>\n",
              "      <th></th>\n",
              "      <td>&gt;50K</td>\n",
              "      <td>62</td>\n",
              "      <td>933</td>\n",
              "      <td>0.028655</td>\n",
              "      <td>0.241195</td>\n",
              "      <td>0.007895</td>\n",
              "      <td>0.066452</td>\n",
              "    </tr>\n",
              "    <tr>\n",
              "      <th>11th</th>\n",
              "      <td>&lt;=50K</td>\n",
              "      <td>1115</td>\n",
              "      <td>1175</td>\n",
              "      <td>0.036087</td>\n",
              "      <td>0.759183</td>\n",
              "      <td>0.045107</td>\n",
              "      <td>0.948936</td>\n",
              "    </tr>\n",
              "    <tr>\n",
              "      <th></th>\n",
              "      <td>&gt;50K</td>\n",
              "      <td>60</td>\n",
              "      <td>1175</td>\n",
              "      <td>0.036087</td>\n",
              "      <td>0.241195</td>\n",
              "      <td>0.007640</td>\n",
              "      <td>0.051064</td>\n",
              "    </tr>\n",
              "    <tr>\n",
              "      <th>12th</th>\n",
              "      <td>&lt;=50K</td>\n",
              "      <td>400</td>\n",
              "      <td>433</td>\n",
              "      <td>0.013299</td>\n",
              "      <td>0.759183</td>\n",
              "      <td>0.016182</td>\n",
              "      <td>0.923788</td>\n",
              "    </tr>\n",
              "    <tr>\n",
              "      <th></th>\n",
              "      <td>&gt;50K</td>\n",
              "      <td>33</td>\n",
              "      <td>433</td>\n",
              "      <td>0.013299</td>\n",
              "      <td>0.241195</td>\n",
              "      <td>0.004202</td>\n",
              "      <td>0.076212</td>\n",
              "    </tr>\n",
              "    <tr>\n",
              "      <th>1st-4th</th>\n",
              "      <td>&lt;=50K</td>\n",
              "      <td>162</td>\n",
              "      <td>168</td>\n",
              "      <td>0.005160</td>\n",
              "      <td>0.759183</td>\n",
              "      <td>0.006554</td>\n",
              "      <td>0.964286</td>\n",
              "    </tr>\n",
              "    <tr>\n",
              "      <th></th>\n",
              "      <td>&gt;50K</td>\n",
              "      <td>6</td>\n",
              "      <td>168</td>\n",
              "      <td>0.005160</td>\n",
              "      <td>0.241195</td>\n",
              "      <td>0.000764</td>\n",
              "      <td>0.035714</td>\n",
              "    </tr>\n",
              "    <tr>\n",
              "      <th>5th-6th</th>\n",
              "      <td>&lt;=50K</td>\n",
              "      <td>317</td>\n",
              "      <td>333</td>\n",
              "      <td>0.010227</td>\n",
              "      <td>0.759183</td>\n",
              "      <td>0.012824</td>\n",
              "      <td>0.951952</td>\n",
              "    </tr>\n",
              "    <tr>\n",
              "      <th></th>\n",
              "      <td>&gt;50K</td>\n",
              "      <td>16</td>\n",
              "      <td>333</td>\n",
              "      <td>0.010227</td>\n",
              "      <td>0.241195</td>\n",
              "      <td>0.002037</td>\n",
              "      <td>0.048048</td>\n",
              "    </tr>\n",
              "    <tr>\n",
              "      <th>7th-8th</th>\n",
              "      <td>&lt;=50K</td>\n",
              "      <td>606</td>\n",
              "      <td>646</td>\n",
              "      <td>0.019840</td>\n",
              "      <td>0.759183</td>\n",
              "      <td>0.024516</td>\n",
              "      <td>0.938080</td>\n",
              "    </tr>\n",
              "    <tr>\n",
              "      <th></th>\n",
              "      <td>&gt;50K</td>\n",
              "      <td>40</td>\n",
              "      <td>646</td>\n",
              "      <td>0.019840</td>\n",
              "      <td>0.241195</td>\n",
              "      <td>0.005093</td>\n",
              "      <td>0.061920</td>\n",
              "    </tr>\n",
              "    <tr>\n",
              "      <th>9th</th>\n",
              "      <td>&lt;=50K</td>\n",
              "      <td>487</td>\n",
              "      <td>514</td>\n",
              "      <td>0.015786</td>\n",
              "      <td>0.759183</td>\n",
              "      <td>0.019701</td>\n",
              "      <td>0.947471</td>\n",
              "    </tr>\n",
              "    <tr>\n",
              "      <th></th>\n",
              "      <td>&gt;50K</td>\n",
              "      <td>27</td>\n",
              "      <td>514</td>\n",
              "      <td>0.015786</td>\n",
              "      <td>0.241195</td>\n",
              "      <td>0.003438</td>\n",
              "      <td>0.052529</td>\n",
              "    </tr>\n",
              "    <tr>\n",
              "      <th></th>\n",
              "      <td>&gt;50K</td>\n",
              "      <td>265</td>\n",
              "      <td>1067</td>\n",
              "      <td>0.032770</td>\n",
              "      <td>0.241195</td>\n",
              "      <td>0.033744</td>\n",
              "      <td>0.248360</td>\n",
              "    </tr>\n",
              "    <tr>\n",
              "      <th>Assoc-acdm</th>\n",
              "      <td>&lt;=50K</td>\n",
              "      <td>802</td>\n",
              "      <td>1067</td>\n",
              "      <td>0.032770</td>\n",
              "      <td>0.759183</td>\n",
              "      <td>0.032445</td>\n",
              "      <td>0.751640</td>\n",
              "    </tr>\n",
              "    <tr>\n",
              "      <th></th>\n",
              "      <td>&gt;50K</td>\n",
              "      <td>361</td>\n",
              "      <td>1382</td>\n",
              "      <td>0.042445</td>\n",
              "      <td>0.241195</td>\n",
              "      <td>0.045968</td>\n",
              "      <td>0.261216</td>\n",
              "    </tr>\n",
              "    <tr>\n",
              "      <th>Assoc-voc</th>\n",
              "      <td>&lt;=50K</td>\n",
              "      <td>1021</td>\n",
              "      <td>1382</td>\n",
              "      <td>0.042445</td>\n",
              "      <td>0.759183</td>\n",
              "      <td>0.041304</td>\n",
              "      <td>0.738784</td>\n",
              "    </tr>\n",
              "    <tr>\n",
              "      <th></th>\n",
              "      <td>&gt;50K</td>\n",
              "      <td>2221</td>\n",
              "      <td>5354</td>\n",
              "      <td>0.164435</td>\n",
              "      <td>0.241195</td>\n",
              "      <td>0.282811</td>\n",
              "      <td>0.414830</td>\n",
              "    </tr>\n",
              "    <tr>\n",
              "      <th>Bachelors</th>\n",
              "      <td>&lt;=50K</td>\n",
              "      <td>3133</td>\n",
              "      <td>5354</td>\n",
              "      <td>0.164435</td>\n",
              "      <td>0.759183</td>\n",
              "      <td>0.126745</td>\n",
              "      <td>0.585170</td>\n",
              "    </tr>\n",
              "    <tr>\n",
              "      <th></th>\n",
              "      <td>&gt;50K</td>\n",
              "      <td>306</td>\n",
              "      <td>413</td>\n",
              "      <td>0.012684</td>\n",
              "      <td>0.241195</td>\n",
              "      <td>0.038965</td>\n",
              "      <td>0.740920</td>\n",
              "    </tr>\n",
              "    <tr>\n",
              "      <th>Doctorate</th>\n",
              "      <td>&lt;=50K</td>\n",
              "      <td>107</td>\n",
              "      <td>413</td>\n",
              "      <td>0.012684</td>\n",
              "      <td>0.759183</td>\n",
              "      <td>0.004329</td>\n",
              "      <td>0.259080</td>\n",
              "    </tr>\n",
              "    <tr>\n",
              "      <th></th>\n",
              "      <td>&gt;50K</td>\n",
              "      <td>1675</td>\n",
              "      <td>10501</td>\n",
              "      <td>0.322512</td>\n",
              "      <td>0.241195</td>\n",
              "      <td>0.213286</td>\n",
              "      <td>0.159509</td>\n",
              "    </tr>\n",
              "    <tr>\n",
              "      <th>HS-grad</th>\n",
              "      <td>&lt;=50K</td>\n",
              "      <td>8826</td>\n",
              "      <td>10501</td>\n",
              "      <td>0.322512</td>\n",
              "      <td>0.759183</td>\n",
              "      <td>0.357053</td>\n",
              "      <td>0.840491</td>\n",
              "    </tr>\n",
              "    <tr>\n",
              "      <th></th>\n",
              "      <td>&gt;50K</td>\n",
              "      <td>959</td>\n",
              "      <td>1723</td>\n",
              "      <td>0.052918</td>\n",
              "      <td>0.241195</td>\n",
              "      <td>0.122114</td>\n",
              "      <td>0.556587</td>\n",
              "    </tr>\n",
              "    <tr>\n",
              "      <th>Masters</th>\n",
              "      <td>&lt;=50K</td>\n",
              "      <td>764</td>\n",
              "      <td>1723</td>\n",
              "      <td>0.052918</td>\n",
              "      <td>0.759183</td>\n",
              "      <td>0.030907</td>\n",
              "      <td>0.443413</td>\n",
              "    </tr>\n",
              "    <tr>\n",
              "      <th>Preschool</th>\n",
              "      <td>&lt;=50K</td>\n",
              "      <td>51</td>\n",
              "      <td>51</td>\n",
              "      <td>0.001566</td>\n",
              "      <td>0.759183</td>\n",
              "      <td>0.002063</td>\n",
              "      <td>1.000000</td>\n",
              "    </tr>\n",
              "    <tr>\n",
              "      <th></th>\n",
              "      <td>&gt;50K</td>\n",
              "      <td>423</td>\n",
              "      <td>576</td>\n",
              "      <td>0.017690</td>\n",
              "      <td>0.241195</td>\n",
              "      <td>0.053863</td>\n",
              "      <td>0.734375</td>\n",
              "    </tr>\n",
              "    <tr>\n",
              "      <th>Prof-school</th>\n",
              "      <td>&lt;=50K</td>\n",
              "      <td>153</td>\n",
              "      <td>576</td>\n",
              "      <td>0.017690</td>\n",
              "      <td>0.759183</td>\n",
              "      <td>0.006190</td>\n",
              "      <td>0.265625</td>\n",
              "    </tr>\n",
              "    <tr>\n",
              "      <th>Some-college</th>\n",
              "      <td>&lt;=50K</td>\n",
              "      <td>5904</td>\n",
              "      <td>7291</td>\n",
              "      <td>0.223925</td>\n",
              "      <td>0.759183</td>\n",
              "      <td>0.238845</td>\n",
              "      <td>0.809765</td>\n",
              "    </tr>\n",
              "    <tr>\n",
              "      <th></th>\n",
              "      <td>&gt;50K</td>\n",
              "      <td>1387</td>\n",
              "      <td>7291</td>\n",
              "      <td>0.223925</td>\n",
              "      <td>0.241195</td>\n",
              "      <td>0.176614</td>\n",
              "      <td>0.190235</td>\n",
              "    </tr>\n",
              "  </tbody>\n",
              "</table>\n",
              "</div>"
            ],
            "text/plain": [
              "                <=50K  salary  people        P1        P2        P3        P4\n",
              "education                                                                    \n",
              " 10th           <=50K     871     933  0.028655  0.759183  0.035236  0.933548\n",
              "                 >50K      62     933  0.028655  0.241195  0.007895  0.066452\n",
              " 11th           <=50K    1115    1175  0.036087  0.759183  0.045107  0.948936\n",
              "                 >50K      60    1175  0.036087  0.241195  0.007640  0.051064\n",
              " 12th           <=50K     400     433  0.013299  0.759183  0.016182  0.923788\n",
              "                 >50K      33     433  0.013299  0.241195  0.004202  0.076212\n",
              " 1st-4th        <=50K     162     168  0.005160  0.759183  0.006554  0.964286\n",
              "                 >50K       6     168  0.005160  0.241195  0.000764  0.035714\n",
              " 5th-6th        <=50K     317     333  0.010227  0.759183  0.012824  0.951952\n",
              "                 >50K      16     333  0.010227  0.241195  0.002037  0.048048\n",
              " 7th-8th        <=50K     606     646  0.019840  0.759183  0.024516  0.938080\n",
              "                 >50K      40     646  0.019840  0.241195  0.005093  0.061920\n",
              " 9th            <=50K     487     514  0.015786  0.759183  0.019701  0.947471\n",
              "                 >50K      27     514  0.015786  0.241195  0.003438  0.052529\n",
              "                 >50K     265    1067  0.032770  0.241195  0.033744  0.248360\n",
              " Assoc-acdm     <=50K     802    1067  0.032770  0.759183  0.032445  0.751640\n",
              "                 >50K     361    1382  0.042445  0.241195  0.045968  0.261216\n",
              " Assoc-voc      <=50K    1021    1382  0.042445  0.759183  0.041304  0.738784\n",
              "                 >50K    2221    5354  0.164435  0.241195  0.282811  0.414830\n",
              " Bachelors      <=50K    3133    5354  0.164435  0.759183  0.126745  0.585170\n",
              "                 >50K     306     413  0.012684  0.241195  0.038965  0.740920\n",
              " Doctorate      <=50K     107     413  0.012684  0.759183  0.004329  0.259080\n",
              "                 >50K    1675   10501  0.322512  0.241195  0.213286  0.159509\n",
              " HS-grad        <=50K    8826   10501  0.322512  0.759183  0.357053  0.840491\n",
              "                 >50K     959    1723  0.052918  0.241195  0.122114  0.556587\n",
              " Masters        <=50K     764    1723  0.052918  0.759183  0.030907  0.443413\n",
              " Preschool      <=50K      51      51  0.001566  0.759183  0.002063  1.000000\n",
              "                 >50K     423     576  0.017690  0.241195  0.053863  0.734375\n",
              " Prof-school    <=50K     153     576  0.017690  0.759183  0.006190  0.265625\n",
              " Some-college   <=50K    5904    7291  0.223925  0.759183  0.238845  0.809765\n",
              "                 >50K    1387    7291  0.223925  0.241195  0.176614  0.190235"
            ]
          },
          "metadata": {
            "tags": []
          },
          "execution_count": 280
        }
      ]
    },
    {
      "cell_type": "markdown",
      "metadata": {
        "id": "LZ7sRnJx-Rtq"
      },
      "source": [
        "Из таблицы видно, что вероятность получать более 50 тыс $ в год растет с образованием. См. вероятности >50K у бакалавров, мастеров и докторов (0.414830, 0.556587, 0.740920)"
      ]
    },
    {
      "cell_type": "markdown",
      "metadata": {
        "id": "DR2hJaeT_FNj"
      },
      "source": [
        "# Задача 2 (2б)"
      ]
    },
    {
      "cell_type": "markdown",
      "metadata": {
        "id": "1RSOjWEb_JPH"
      },
      "source": [
        "Производитель спринклерных установок, используемых для противопожарной защиты офисных зданий, утверждает, что истинная средняя температура срабатывания системы составляет 130°. Выборка из n = 9 систем при тестировании дает среднюю температуру активации образца 131,08°F. Если распределение времени активации нормально при стандартном отклонении 1,5°F, противоречат ли данные утверждениям производителя на уровне значимости $\\alpha = 0.01$?\n",
        "\n",
        "В решении не использовать готовый функционал из stats. Следует расписать (тезисно основные шаги)"
      ]
    },
    {
      "cell_type": "code",
      "metadata": {
        "id": "YMSrq7IpDCtu"
      },
      "source": [
        "Нулевая гипотеза: средняя температура активации = 130\n",
        "Альтернативная гипотеза: средняя температура активации <> 130\n",
        "Z = (среднее по выборке - среднее) / (стандартное отклонение / sqrt (количество образцов)) ="
      ],
      "execution_count": null,
      "outputs": []
    },
    {
      "cell_type": "code",
      "metadata": {
        "id": "Pi0zT-zP-Jxh",
        "colab": {
          "base_uri": "https://localhost:8080/"
        },
        "outputId": "a1f207cf-8812-4514-d7e8-7ed12985596a"
      },
      "source": [
        " from math import sqrt\n",
        " Z = (131.08 - 130) / (1.5 / sqrt (9))\n",
        " Z"
      ],
      "execution_count": null,
      "outputs": [
        {
          "output_type": "execute_result",
          "data": {
            "text/plain": [
              "2.160000000000025"
            ]
          },
          "metadata": {
            "tags": []
          },
          "execution_count": 9
        }
      ]
    },
    {
      "cell_type": "code",
      "metadata": {
        "id": "HzAnyi0uAqbx"
      },
      "source": [
        "Необходимо найти P-значение, чтобы принять решение в отношении нулевой гипотезы (отклонить или не отклонить)\n",
        "С учетом значения Z выше, смотри по Z-таблице:\n",
        "p = P (Z <-2,16) + P (Z> 2,16) = 2 * (1 - 0,9846) =\n"
      ],
      "execution_count": null,
      "outputs": []
    },
    {
      "cell_type": "markdown",
      "metadata": {
        "id": "3gKxhqurBQXu"
      },
      "source": [
        "Замечание: неравенство в Ха подразумевает, что тест является двусторонним, поэтому значение P является результатом удвоения захваченной площади хвоста:\n",
        "\n",
        "P = 2[1 - Ф(z_stat)] = ..."
      ]
    },
    {
      "cell_type": "code",
      "metadata": {
        "id": "yyrSNjXRBeK7",
        "colab": {
          "base_uri": "https://localhost:8080/"
        },
        "outputId": "4415a551-34c8-4e8d-b2cd-dfa6cc77cf41"
      },
      "source": [
        "p = 2 * (1 - 0.9846)\n",
        "p"
      ],
      "execution_count": null,
      "outputs": [
        {
          "output_type": "execute_result",
          "data": {
            "text/plain": [
              "0.03079999999999994"
            ]
          },
          "metadata": {
            "tags": []
          },
          "execution_count": 11
        }
      ]
    },
    {
      "cell_type": "markdown",
      "metadata": {
        "id": "o-6Agr0hB2hg"
      },
      "source": [
        "Вывод:\n",
        "\n",
        "Поскольку полученное значение P (3%) превышает уровень значимости (1%), это означает, что нулевую гипотезу не отклоняем."
      ]
    },
    {
      "cell_type": "markdown",
      "metadata": {
        "id": "LrbUhfS3Ca54"
      },
      "source": [
        "# Задача 3 (3б)"
      ]
    },
    {
      "cell_type": "markdown",
      "metadata": {
        "id": "iDa6mvS0Cc7m"
      },
      "source": [
        "Динамический конический пенетрометр (ДКП) используется для измерения сопротивления материала проникновению, так как конус вбивается в дорожное покрытие или основание. Предположим, что для конкретного применения необходимо, чтобы истинное среднее значение ДКП для определенного типа покрытия было меньше 30. Это покрытие не будет использоваться до тех пор, пока не будет убедительно доказано, что технические условия были соблюдены. Проверить соответствующие гипотезы, используя следующие данные: "
      ]
    },
    {
      "cell_type": "code",
      "metadata": {
        "id": "u0oPco72BpoT"
      },
      "source": [
        "arr = [14.1, 14.5, 15.5, 16.0, 16.0, 16.7, 16.9, 17.1, 17.5, 17.8, 17.8, 18.1, 18.2, 18.3, 18.3, 19.0, 19.2, 19.4, 20.0, 20.0, 20.8, 20.8, 21.0, 21.5, 23.5, 27.5, 27.5, 28.0, 28.3, 30.0, 30.0, 31.6, 31.7, 31.7, 32.5, 33.5, 33.9, 35.0, 35.0, 35.0, 36.7, 40.0, 40.0, 41.3, 41.7, 47.5, 50.0, 51.0, 51.8, 54.4, 55.0, 57.0]"
      ],
      "execution_count": 421,
      "outputs": []
    },
    {
      "cell_type": "markdown",
      "metadata": {
        "id": "Oc1g5pozF4r4"
      },
      "source": [
        "Визуализировать данные с помощью описательных статистик (см. вывод ниже) и построить .95 доверительные интервалы для $\\mu, \\sigma, Median$"
      ]
    },
    {
      "cell_type": "markdown",
      "metadata": {
        "id": "V-tIgzxKAGMD"
      },
      "source": [
        "Истинное среднее значение предоставляет информацию о центральном положении переменной особенно если сообщается ее доверительный интервал. Доверительный интервал - диапазон значений выше и ниже точечной оценки, которая фиксирует истинный параметр популяции на некотором заранее определенном доверительном уровне. Нужно вычислить доверительный интервал, затем скорректировать на величину погрешности для создания диапазона, которая зависит от желаемого уровня доверия, разброса данных и размера выборки. Предельная ошибка выборки - величина, определяющая, с определенной степенью вероятности, максимальное значение, на которое результаты выборки отличаются от результатов генеральной совокупности. Можно вычислить стандартное отклонение генеральной совокупности и далее посчитать величину погрешности: z∗σ/sqrt(n)"
      ]
    },
    {
      "cell_type": "code",
      "metadata": {
        "colab": {
          "base_uri": "https://localhost:8080/",
          "height": 353
        },
        "id": "mqTxO0Sih-PI",
        "outputId": "9208652d-90ba-4787-88ea-70a07e10d287"
      },
      "source": [
        ""
      ],
      "execution_count": null,
      "outputs": [
        {
          "output_type": "stream",
          "text": [
            "/usr/local/lib/python3.7/dist-packages/seaborn/_decorators.py:43: FutureWarning: Pass the following variable as a keyword arg: x. From version 0.12, the only valid positional argument will be `data`, and passing other arguments without an explicit keyword will result in an error or misinterpretation.\n",
            "  FutureWarning\n",
            "/usr/local/lib/python3.7/dist-packages/seaborn/distributions.py:2557: FutureWarning: `distplot` is a deprecated function and will be removed in a future version. Please adapt your code to use either `displot` (a figure-level function with similar flexibility) or `histplot` (an axes-level function for histograms).\n",
            "  warnings.warn(msg, FutureWarning)\n"
          ],
          "name": "stderr"
        },
        {
          "output_type": "display_data",
          "data": {
            "image/png": "[encoded data removed]",
            "text/plain": [
              "<Figure size 432x288 with 2 Axes>"
            ]
          },
          "metadata": {
            "tags": [],
            "needs_background": "light"
          }
        }
      ]
    },
    {
      "cell_type": "code",
      "metadata": {
        "colab": {
          "base_uri": "https://localhost:8080/"
        },
        "id": "0irthhy_oM22",
        "outputId": "10d7d40f-4a95-4c88-de14-cc552941b5a2"
      },
      "source": [
        "df = pd.DataFrame(arr)\n",
        "df.index"
      ],
      "execution_count": 422,
      "outputs": [
        {
          "output_type": "execute_result",
          "data": {
            "text/plain": [
              "RangeIndex(start=0, stop=52, step=1)"
            ]
          },
          "metadata": {
            "tags": []
          },
          "execution_count": 422
        }
      ]
    },
    {
      "cell_type": "code",
      "metadata": {
        "colab": {
          "base_uri": "https://localhost:8080/"
        },
        "id": "kV_GCuHw2Hnw",
        "outputId": "5a7484ae-c7af-4e4a-c3c0-9e156569f64d"
      },
      "source": [
        "import math\n",
        "import scipy.stats as stats\n",
        "z_critical = stats.norm.ppf(q = 0.975)\n",
        "pop_stdev = np.array(arr).std() \n",
        "margin_of_error = z_critical * (pop_stdev/math.sqrt(len(arr)))\n",
        "sample_mean = np.mean(df).values[0]\n",
        "sample_mean - margin_of_error, sample_mean + margin_of_error"
      ],
      "execution_count": 507,
      "outputs": [
        {
          "output_type": "execute_result",
          "data": {
            "text/plain": [
              "(25.46022564830602, 32.06285127477091)"
            ]
          },
          "metadata": {
            "tags": []
          },
          "execution_count": 507
        }
      ]
    },
    {
      "cell_type": "code",
      "metadata": {
        "id": "t8fjjg6sPo2e",
        "colab": {
          "base_uri": "https://localhost:8080/",
          "height": 370
        },
        "outputId": "46574bb4-12d2-4a93-9a57-33305a7efe6e"
      },
      "source": [
        "plt.figure(figsize=(20,20))\n",
        "f, (ax1, ax2, ax3) = plt.subplots(3,1, sharex=True)\n",
        "sns.boxplot(arr, orient = 'h', ax =ax1)\n",
        "sns.distplot(df, ax = ax2)\n",
        "plt.yticks(np.arange(0,0.06,0.01))\n",
        "mean = round(np.mean(df).values[0],4)\n",
        "std = round(np.std(df).values[0],4)\n",
        "var = round(np.var(df).values[0],2)\n",
        "q1 = round(np.percentile(df,25),3)\n",
        "median = np.median(df)\n",
        "q3 = round(np.percentile(df,75),3)\n",
        "plt.text(85, 1.05, 'mean {}'.format(mean))\n",
        "plt.text(85, 1.03, 'std {}'.format(std))\n",
        "plt.text(85, 1.01, 'var {}'.format(var))\n",
        "plt.text(85, 0.99, 'q1 {}'.format(q1))\n",
        "plt.text(85, 0.97, 'median {}'.format(median))\n",
        "plt.text(85, .95, 'q3 {}'.format(q3))\n",
        "x1, y1 = [sample_mean - margin_of_error, sample_mean + margin_of_error], [1, 1]\n",
        "plt.xticks(np.arange(0,80,10))\n",
        "plt.yticks(np.arange(0.95,1.05,0.05))\n",
        "plt.plot(x1, y1)\n",
        "plt.show()"
      ],
      "execution_count": 530,
      "outputs": [
        {
          "output_type": "stream",
          "text": [
            "/usr/local/lib/python3.7/dist-packages/seaborn/_decorators.py:43: FutureWarning: Pass the following variable as a keyword arg: x. From version 0.12, the only valid positional argument will be `data`, and passing other arguments without an explicit keyword will result in an error or misinterpretation.\n",
            "  FutureWarning\n",
            "/usr/local/lib/python3.7/dist-packages/seaborn/distributions.py:2557: FutureWarning: `distplot` is a deprecated function and will be removed in a future version. Please adapt your code to use either `displot` (a figure-level function with similar flexibility) or `histplot` (an axes-level function for histograms).\n",
            "  warnings.warn(msg, FutureWarning)\n"
          ],
          "name": "stderr"
        },
        {
          "output_type": "display_data",
          "data": {
            "text/plain": [
              "<Figure size 1440x1440 with 0 Axes>"
            ]
          },
          "metadata": {
            "tags": []
          }
        },
        {
          "output_type": "display_data",
          "data": {
            "image/png": "[encoded data removed]",
            "text/plain": [
              "<Figure size 432x288 with 3 Axes>"
            ]
          },
          "metadata": {
            "tags": [],
            "needs_background": "light"
          }
        }
      ]
    },
    {
      "cell_type": "code",
      "metadata": {
        "id": "AY2ZsbuchpNG",
        "colab": {
          "base_uri": "https://localhost:8080/"
        },
        "outputId": "652e0701-47b1-45d6-9a4f-b75227fa8cff"
      },
      "source": [
        "yerr=[(top-bot)/2 for top,bot in intervals]\n",
        "yerr[0]"
      ],
      "execution_count": 531,
      "outputs": [
        {
          "output_type": "execute_result",
          "data": {
            "text/plain": [
              "-0.7528151480425045"
            ]
          },
          "metadata": {
            "tags": []
          },
          "execution_count": 531
        }
      ]
    },
    {
      "cell_type": "code",
      "metadata": {
        "id": "VBFrAp1d6zke"
      },
      "source": [
        "доверительный интервал медианы\n",
        "n = 52\n",
        "Точечная оценка медианы: \n",
        "1/2 (x26 + x27) = 1/2 * (27.5 + 28) = 27.75\n",
        "По таблице k = 19 ---> x19 = 20 ---> Медиана совокупности с вероятностью 0,95 больше или равна 20."
      ],
      "execution_count": null,
      "outputs": []
    },
    {
      "cell_type": "code",
      "metadata": {
        "id": "-Ah5bRTh697J"
      },
      "source": [
        "Доверительный интервал для стандартного отклонения:\n",
        "Необходимо построить симметричный интервал по формуле:\n",
        "s(1-q) < σ < s(1+q),где значения q отыскиваются по соответствующей таблице.\n",
        "Согласно выборке n = 50 и вероятности 0.95, значение q равно 0,21.\n",
        "s - среднеквадратическое отклонение и равно 12.264698\n",
        "Таким образом, 9.68911142 < σ < 14.840284579999999"
      ],
      "execution_count": null,
      "outputs": []
    },
    {
      "cell_type": "markdown",
      "metadata": {
        "id": "_jqjKg9yhzLp"
      },
      "source": [
        "Ваш вывод\n"
      ]
    },
    {
      "cell_type": "markdown",
      "metadata": {
        "id": "PlJfuVuyCpTn"
      },
      "source": [
        "Исходя из полученных значений доверительных интервалов, можно сделать вывод о том, что вероятное значение (истинное среднее значение ДКП, которое должно быть менее 30) с 95% вероятностью будет составлять менее 30 и находиться в пределах доверительного интервала."
      ]
    },
    {
      "cell_type": "markdown",
      "metadata": {
        "id": "0l4oj2NNi3hu"
      },
      "source": [
        "# Задача 4 (2б)\n"
      ]
    },
    {
      "cell_type": "markdown",
      "metadata": {
        "id": "K6pjjPqHi9Tl"
      },
      "source": [
        "Обширный мониторинг компьютерной системы совместного использования времени показал, что время отклика на конкретную команду редактирования, как правило, распределяется со стандартным отклонением 25 миллисекунд. Была установлена новая операционная система, и мы хотим оценить истинное среднее время отклика $\\mu$ для новой среды. Если предположить, что время отклика все еще нормально распределено с $\\sigma = $ 25, то какой размер выборки необходим для того, чтобы получившийся 95% доверительный интервал имел ширину (максимум) 10?"
      ]
    },
    {
      "cell_type": "markdown",
      "metadata": {
        "id": "jKM6EJXxjcfR"
      },
      "source": [
        "Ваши рассуждения"
      ]
    },
    {
      "cell_type": "markdown",
      "metadata": {
        "id": "0mSqORfpMiau"
      },
      "source": [
        "Доверительный интервал:\n",
        "μ +- tα/2;dfsqrt(σ^2/n)\n",
        "Отсюда можно вывести формулу ширины доверительного интервала:\n",
        "w = 2tα/2;dfsqrt(σ^2/n),\n",
        "Заменив t-статистику Стьюдента на z стандартного нормального распределения и заменив половину W на погрешность измерения E, получаем:\n",
        "E = zα/2sqrt(σ^2/n)"
      ]
    },
    {
      "cell_type": "markdown",
      "metadata": {
        "id": "GV5HZtmITmBV"
      },
      "source": [
        "Найдем sqrt(n):"
      ]
    },
    {
      "cell_type": "code",
      "metadata": {
        "colab": {
          "base_uri": "https://localhost:8080/"
        },
        "id": "ish2HOn8KoE_",
        "outputId": "21538ff7-aed7-40b7-e551-e7b7e9328a0e"
      },
      "source": [
        "import scipy.stats as stats\n",
        "z_critical = stats.norm.ppf(q = 0.975)\n",
        "round(z_critical * 25 / (10/2),2)"
      ],
      "execution_count": 597,
      "outputs": [
        {
          "output_type": "execute_result",
          "data": {
            "text/plain": [
              "9.8"
            ]
          },
          "metadata": {
            "tags": []
          },
          "execution_count": 597
        }
      ]
    },
    {
      "cell_type": "code",
      "metadata": {
        "id": "G2sO236zj2pz",
        "colab": {
          "base_uri": "https://localhost:8080/"
        },
        "outputId": "0b2c82a5-43d7-4c14-db76-c4fbf633c17c"
      },
      "source": [
        "round(z_critical * 25 / (10/2),2) ** 2"
      ],
      "execution_count": 598,
      "outputs": [
        {
          "output_type": "execute_result",
          "data": {
            "text/plain": [
              "96.04000000000002"
            ]
          },
          "metadata": {
            "tags": []
          },
          "execution_count": 598
        }
      ]
    },
    {
      "cell_type": "markdown",
      "metadata": {
        "id": "L3cfLgT4kNw8"
      },
      "source": [
        "Ваш вывод"
      ]
    },
    {
      "cell_type": "markdown",
      "metadata": {
        "id": "6H3__O2JT6zS"
      },
      "source": [
        "Полученные результаты, в частности размер выборки, указывают на то, что с заданной вероятностью в 0.95 истичнное среднее время отклика в новой операционной системе составляет 25 или менее мс."
      ]
    },
    {
      "cell_type": "markdown",
      "metadata": {
        "id": "eXzYQO8EmCKr"
      },
      "source": [
        "# Задача на бонусный балл"
      ]
    },
    {
      "cell_type": "markdown",
      "metadata": {
        "id": "rASFQmvjmI_g"
      },
      "source": [
        "Предположим мы сместили центр масс монеты таким образом, что выпадает она в 65% случаев решкой. Сколько подбрасываний нужно при заданном уровне значимости, чтобы определить, что она фальшивая? (ну т.е. не 50/50 вероятности орел/решка)"
      ]
    },
    {
      "cell_type": "markdown",
      "metadata": {
        "id": "GeRSOsVMnz5x"
      },
      "source": [
        "Ваши рассуждения"
      ]
    },
    {
      "cell_type": "code",
      "metadata": {
        "id": "hMe_rpsHVqHm"
      },
      "source": [
        "Вероятность выпадения решки: (Р / (О + Р))\n",
        "Предельная допустимая ошибка составляет abs(p-r) < E при заданнном уровне значимости\n",
        "p - ожидаемая вероятность получения решки, r - заданная вероятность выпадения решки в 1 броске\n",
        "Заданнный уровень значимости определяется Z, максимальный уровень ошибки - E.\n",
        "Стандартная ошибка = sqrt((p*(1-p))/n)\n",
        "n - количество бросков\n",
        "\n",
        "Преобразовав формулу, получим:\n",
        "стандартная ошибка = sqrt((.65*(1-.65))/n) = sqrt((.2275)/n)\n",
        "Максимальная ошибка (E) = Z * sqrt((.2275)/n) \n",
        "Отсюда количество бросков (n) = 0.2275 * Z**2 /E**2\n",
        "Допустим, при уровне максимальной ошибки в 0.01, количество бросков будет определяться:\n",
        "n = 0.2275 * Z**2 / 0.01**2 = 2275Z**2\n",
        "Таким образом, для достижения вероятности 99.99% (Z = 3.891) потребуется 34444 бросков  "
      ],
      "execution_count": null,
      "outputs": []
    }
  ]
}